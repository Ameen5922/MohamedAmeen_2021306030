{
 "cells": [
  {
   "cell_type": "markdown",
   "id": "040e902f",
   "metadata": {
    "papermill": {
     "duration": 0.02595,
     "end_time": "2021-08-05T19:31:51.750758",
     "exception": false,
     "start_time": "2021-08-05T19:31:51.724808",
     "status": "completed"
    },
    "tags": []
   },
   "source": [
    "# Hotel Booking Dataset Analysis Using Pandas & Seaborn\n"
   ]
  },
  {
   "cell_type": "markdown",
   "id": "bbae7878",
   "metadata": {
    "papermill": {
     "duration": 0.024618,
     "end_time": "2021-08-05T19:31:51.800416",
     "exception": false,
     "start_time": "2021-08-05T19:31:51.775798",
     "status": "completed"
    },
    "tags": []
   },
   "source": [
    "### About DataSet :\n"
   ]
  },
  {
   "cell_type": "markdown",
   "id": "6f17d9b1",
   "metadata": {
    "papermill": {
     "duration": 0.024211,
     "end_time": "2021-08-05T19:31:51.849154",
     "exception": false,
     "start_time": "2021-08-05T19:31:51.824943",
     "status": "completed"
    },
    "tags": []
   },
   "source": [
    "#### This dataset contains 119390 observations for a City Hotel and a Resort Hotel. Each observation represents a hotel \n",
    "#### Booking between the 1st of July 2015 and 31st of August 2017, including booking that effectively arrived and booking that were canceled.\n",
    "#### Since this is hotel real data, all data elements pertaining hotel or costumer identification were deleted.\n",
    "#### Four Columns, 'name', 'email', 'phone number' and 'credit_card' have been artificially created and added to the dataset.\n",
    "#### \n",
    "#### The data is originally from the article :\n",
    "> Hotel Booking Demand Datasets, written by Nuno Antonio, Ana Almeida, and \n",
    " Luis Nunes for Data in Brief, Volume 22, February 2019."
   ]
  },
  {
   "cell_type": "markdown",
   "id": "7d4a0ee9",
   "metadata": {
    "papermill": {
     "duration": 0.024896,
     "end_time": "2021-08-05T19:31:51.898605",
     "exception": false,
     "start_time": "2021-08-05T19:31:51.873709",
     "status": "completed"
    },
    "tags": []
   },
   "source": [
    "#### Import Libraries"
   ]
  },
  {
   "cell_type": "code",
   "execution_count": 1,
   "id": "a03d09dd",
   "metadata": {
    "execution": {
     "iopub.execute_input": "2021-08-05T19:31:51.963328Z",
     "iopub.status.busy": "2021-08-05T19:31:51.962388Z",
     "iopub.status.idle": "2021-08-05T19:31:53.052794Z",
     "shell.execute_reply": "2021-08-05T19:31:53.052011Z",
     "shell.execute_reply.started": "2021-07-17T11:28:41.610826Z"
    },
    "papermill": {
     "duration": 1.12822,
     "end_time": "2021-08-05T19:31:53.053012",
     "exception": false,
     "start_time": "2021-08-05T19:31:51.924792",
     "status": "completed"
    },
    "tags": []
   },
   "outputs": [],
   "source": [
    "import numpy as np\n",
    "import pandas as pd\n",
    "import seaborn as sns\n",
    "import matplotlib.pyplot as plt\n",
    "%matplotlib inline"
   ]
  },
  {
   "cell_type": "markdown",
   "id": "bbf4d021",
   "metadata": {
    "papermill": {
     "duration": 0.024362,
     "end_time": "2021-08-05T19:31:53.102412",
     "exception": false,
     "start_time": "2021-08-05T19:31:53.078050",
     "status": "completed"
    },
    "tags": []
   },
   "source": [
    "#### Reading dataset from CSV file"
   ]
  },
  {
   "cell_type": "code",
   "execution_count": 2,
   "id": "42628b5c",
   "metadata": {
    "execution": {
     "iopub.execute_input": "2021-08-05T19:31:53.158237Z",
     "iopub.status.busy": "2021-08-05T19:31:53.157596Z",
     "iopub.status.idle": "2021-08-05T19:31:54.231172Z",
     "shell.execute_reply": "2021-08-05T19:31:54.230401Z",
     "shell.execute_reply.started": "2021-07-17T11:30:13.478135Z"
    },
    "papermill": {
     "duration": 1.10429,
     "end_time": "2021-08-05T19:31:54.231343",
     "exception": false,
     "start_time": "2021-08-05T19:31:53.127053",
     "status": "completed"
    },
    "tags": []
   },
   "outputs": [],
   "source": [
    "df=pd.read_csv('../input/hotel-booking/hotel_booking.csv')"
   ]
  },
  {
   "cell_type": "markdown",
   "id": "c8714797",
   "metadata": {
    "papermill": {
     "duration": 0.024157,
     "end_time": "2021-08-05T19:31:54.282242",
     "exception": false,
     "start_time": "2021-08-05T19:31:54.258085",
     "status": "completed"
    },
    "tags": []
   },
   "source": [
    "#### Dataset information"
   ]
  },
  {
   "cell_type": "code",
   "execution_count": 3,
   "id": "ef0aa2da",
   "metadata": {
    "execution": {
     "iopub.execute_input": "2021-08-05T19:31:54.344732Z",
     "iopub.status.busy": "2021-08-05T19:31:54.344056Z",
     "iopub.status.idle": "2021-08-05T19:31:54.560688Z",
     "shell.execute_reply": "2021-08-05T19:31:54.560069Z",
     "shell.execute_reply.started": "2021-07-17T11:30:16.640044Z"
    },
    "papermill": {
     "duration": 0.254075,
     "end_time": "2021-08-05T19:31:54.560834",
     "exception": false,
     "start_time": "2021-08-05T19:31:54.306759",
     "status": "completed"
    },
    "tags": []
   },
   "outputs": [
    {
     "name": "stdout",
     "output_type": "stream",
     "text": [
      "<class 'pandas.core.frame.DataFrame'>\n",
      "RangeIndex: 119390 entries, 0 to 119389\n",
      "Data columns (total 36 columns):\n",
      " #   Column                          Non-Null Count   Dtype  \n",
      "---  ------                          --------------   -----  \n",
      " 0   hotel                           119390 non-null  object \n",
      " 1   is_canceled                     119390 non-null  int64  \n",
      " 2   lead_time                       119390 non-null  int64  \n",
      " 3   arrival_date_year               119390 non-null  int64  \n",
      " 4   arrival_date_month              119390 non-null  object \n",
      " 5   arrival_date_week_number        119390 non-null  int64  \n",
      " 6   arrival_date_day_of_month       119390 non-null  int64  \n",
      " 7   stays_in_weekend_nights         119390 non-null  int64  \n",
      " 8   stays_in_week_nights            119390 non-null  int64  \n",
      " 9   adults                          119390 non-null  int64  \n",
      " 10  children                        119386 non-null  float64\n",
      " 11  babies                          119390 non-null  int64  \n",
      " 12  meal                            119390 non-null  object \n",
      " 13  country                         118902 non-null  object \n",
      " 14  market_segment                  119390 non-null  object \n",
      " 15  distribution_channel            119390 non-null  object \n",
      " 16  is_repeated_guest               119390 non-null  int64  \n",
      " 17  previous_cancellations          119390 non-null  int64  \n",
      " 18  previous_bookings_not_canceled  119390 non-null  int64  \n",
      " 19  reserved_room_type              119390 non-null  object \n",
      " 20  assigned_room_type              119390 non-null  object \n",
      " 21  booking_changes                 119390 non-null  int64  \n",
      " 22  deposit_type                    119390 non-null  object \n",
      " 23  agent                           103050 non-null  float64\n",
      " 24  company                         6797 non-null    float64\n",
      " 25  days_in_waiting_list            119390 non-null  int64  \n",
      " 26  customer_type                   119390 non-null  object \n",
      " 27  adr                             119390 non-null  float64\n",
      " 28  required_car_parking_spaces     119390 non-null  int64  \n",
      " 29  total_of_special_requests       119390 non-null  int64  \n",
      " 30  reservation_status              119390 non-null  object \n",
      " 31  reservation_status_date         119390 non-null  object \n",
      " 32  name                            119390 non-null  object \n",
      " 33  email                           119390 non-null  object \n",
      " 34  phone-number                    119390 non-null  object \n",
      " 35  credit_card                     119390 non-null  object \n",
      "dtypes: float64(4), int64(16), object(16)\n",
      "memory usage: 32.8+ MB\n"
     ]
    }
   ],
   "source": [
    "df.info()"
   ]
  },
  {
   "cell_type": "markdown",
   "id": "db97cff3",
   "metadata": {
    "papermill": {
     "duration": 0.024446,
     "end_time": "2021-08-05T19:31:54.611312",
     "exception": false,
     "start_time": "2021-08-05T19:31:54.586866",
     "status": "completed"
    },
    "tags": []
   },
   "source": [
    "#### Gives number of rows and columns"
   ]
  },
  {
   "cell_type": "code",
   "execution_count": 4,
   "id": "bc153be4",
   "metadata": {
    "execution": {
     "iopub.execute_input": "2021-08-05T19:31:54.671711Z",
     "iopub.status.busy": "2021-08-05T19:31:54.671024Z",
     "iopub.status.idle": "2021-08-05T19:31:54.684245Z",
     "shell.execute_reply": "2021-08-05T19:31:54.683584Z",
     "shell.execute_reply.started": "2021-07-08T18:59:04.656268Z"
    },
    "papermill": {
     "duration": 0.048288,
     "end_time": "2021-08-05T19:31:54.684414",
     "exception": false,
     "start_time": "2021-08-05T19:31:54.636126",
     "status": "completed"
    },
    "tags": []
   },
   "outputs": [
    {
     "data": {
      "text/html": [
       "<div>\n",
       "<style scoped>\n",
       "    .dataframe tbody tr th:only-of-type {\n",
       "        vertical-align: middle;\n",
       "    }\n",
       "\n",
       "    .dataframe tbody tr th {\n",
       "        vertical-align: top;\n",
       "    }\n",
       "\n",
       "    .dataframe thead th {\n",
       "        text-align: right;\n",
       "    }\n",
       "</style>\n",
       "<table border=\"1\" class=\"dataframe\">\n",
       "  <thead>\n",
       "    <tr style=\"text-align: right;\">\n",
       "      <th></th>\n",
       "      <th>number_of_rows</th>\n",
       "      <th>number_of_columns</th>\n",
       "    </tr>\n",
       "  </thead>\n",
       "  <tbody>\n",
       "    <tr>\n",
       "      <th>#</th>\n",
       "      <td>119390</td>\n",
       "      <td>36</td>\n",
       "    </tr>\n",
       "  </tbody>\n",
       "</table>\n",
       "</div>"
      ],
      "text/plain": [
       "   number_of_rows  number_of_columns\n",
       "#          119390                 36"
      ]
     },
     "execution_count": 4,
     "metadata": {},
     "output_type": "execute_result"
    }
   ],
   "source": [
    "pd.DataFrame([df.shape],columns=['number_of_rows','number_of_columns'],index=['#'])"
   ]
  },
  {
   "cell_type": "markdown",
   "id": "e9eb8772",
   "metadata": {
    "papermill": {
     "duration": 0.025319,
     "end_time": "2021-08-05T19:31:54.735624",
     "exception": false,
     "start_time": "2021-08-05T19:31:54.710305",
     "status": "completed"
    },
    "tags": []
   },
   "source": [
    "#### Check out the missing data\n"
   ]
  },
  {
   "cell_type": "code",
   "execution_count": 5,
   "id": "20e959af",
   "metadata": {
    "execution": {
     "iopub.execute_input": "2021-08-05T19:31:54.795975Z",
     "iopub.status.busy": "2021-08-05T19:31:54.795059Z",
     "iopub.status.idle": "2021-08-05T19:31:55.387044Z",
     "shell.execute_reply": "2021-08-05T19:31:55.386383Z",
     "shell.execute_reply.started": "2021-07-10T11:48:17.836559Z"
    },
    "papermill": {
     "duration": 0.625081,
     "end_time": "2021-08-05T19:31:55.387195",
     "exception": false,
     "start_time": "2021-08-05T19:31:54.762114",
     "status": "completed"
    },
    "tags": []
   },
   "outputs": [
    {
     "data": {
      "text/html": [
       "<div>\n",
       "<style scoped>\n",
       "    .dataframe tbody tr th:only-of-type {\n",
       "        vertical-align: middle;\n",
       "    }\n",
       "\n",
       "    .dataframe tbody tr th {\n",
       "        vertical-align: top;\n",
       "    }\n",
       "\n",
       "    .dataframe thead th {\n",
       "        text-align: right;\n",
       "    }\n",
       "</style>\n",
       "<table border=\"1\" class=\"dataframe\">\n",
       "  <thead>\n",
       "    <tr style=\"text-align: right;\">\n",
       "      <th></th>\n",
       "      <th>missing_data_existance</th>\n",
       "      <th>column_with_maximum_missing_data</th>\n",
       "      <th>number_of_missing_data</th>\n",
       "    </tr>\n",
       "  </thead>\n",
       "  <tbody>\n",
       "    <tr>\n",
       "      <th>#</th>\n",
       "      <td>True</td>\n",
       "      <td>company</td>\n",
       "      <td>112593</td>\n",
       "    </tr>\n",
       "  </tbody>\n",
       "</table>\n",
       "</div>"
      ],
      "text/plain": [
       "   missing_data_existance column_with_maximum_missing_data  \\\n",
       "#                    True                          company   \n",
       "\n",
       "   number_of_missing_data  \n",
       "#                  112593  "
      ]
     },
     "execution_count": 5,
     "metadata": {},
     "output_type": "execute_result"
    }
   ],
   "source": [
    "\n",
    "pd.DataFrame([(df.isnull().values.any(),df.isnull().sum().idxmax(),max(df.isnull().sum()))],columns=['missing_data_existance','column_with_maximum_missing_data','number_of_missing_data'],index=['#'])"
   ]
  },
  {
   "cell_type": "markdown",
   "id": "a97a937c",
   "metadata": {
    "papermill": {
     "duration": 0.025834,
     "end_time": "2021-08-05T19:31:55.438790",
     "exception": false,
     "start_time": "2021-08-05T19:31:55.412956",
     "status": "completed"
    },
    "tags": []
   },
   "source": [
    "#### Drop \" company \" column from DataFrame "
   ]
  },
  {
   "cell_type": "code",
   "execution_count": 6,
   "id": "27771d20",
   "metadata": {
    "execution": {
     "iopub.execute_input": "2021-08-05T19:31:55.499824Z",
     "iopub.status.busy": "2021-08-05T19:31:55.498033Z",
     "iopub.status.idle": "2021-08-05T19:31:55.534392Z",
     "shell.execute_reply": "2021-08-05T19:31:55.533251Z",
     "shell.execute_reply.started": "2021-07-08T18:59:05.239815Z"
    },
    "papermill": {
     "duration": 0.069875,
     "end_time": "2021-08-05T19:31:55.534580",
     "exception": false,
     "start_time": "2021-08-05T19:31:55.464705",
     "status": "completed"
    },
    "tags": []
   },
   "outputs": [
    {
     "data": {
      "text/plain": [
       "['hotel',\n",
       " 'is_canceled',\n",
       " 'lead_time',\n",
       " 'arrival_date_year',\n",
       " 'arrival_date_month',\n",
       " 'arrival_date_week_number',\n",
       " 'arrival_date_day_of_month',\n",
       " 'stays_in_weekend_nights',\n",
       " 'stays_in_week_nights',\n",
       " 'adults',\n",
       " 'children',\n",
       " 'babies',\n",
       " 'meal',\n",
       " 'country',\n",
       " 'market_segment',\n",
       " 'distribution_channel',\n",
       " 'is_repeated_guest',\n",
       " 'previous_cancellations',\n",
       " 'previous_bookings_not_canceled',\n",
       " 'reserved_room_type',\n",
       " 'assigned_room_type',\n",
       " 'booking_changes',\n",
       " 'deposit_type',\n",
       " 'agent',\n",
       " 'days_in_waiting_list',\n",
       " 'customer_type',\n",
       " 'adr',\n",
       " 'required_car_parking_spaces',\n",
       " 'total_of_special_requests',\n",
       " 'reservation_status',\n",
       " 'reservation_status_date',\n",
       " 'name',\n",
       " 'email',\n",
       " 'phone-number',\n",
       " 'credit_card']"
      ]
     },
     "execution_count": 6,
     "metadata": {},
     "output_type": "execute_result"
    }
   ],
   "source": [
    "df.drop('company',axis=1).columns.tolist()\n"
   ]
  },
  {
   "cell_type": "markdown",
   "id": "f376f680",
   "metadata": {
    "papermill": {
     "duration": 0.026592,
     "end_time": "2021-08-05T19:31:55.588213",
     "exception": false,
     "start_time": "2021-08-05T19:31:55.561621",
     "status": "completed"
    },
    "tags": []
   },
   "source": [
    "#### Which countries have the most passengers ?"
   ]
  },
  {
   "cell_type": "code",
   "execution_count": 7,
   "id": "0cdce667",
   "metadata": {
    "execution": {
     "iopub.execute_input": "2021-08-05T19:31:55.648138Z",
     "iopub.status.busy": "2021-08-05T19:31:55.647220Z",
     "iopub.status.idle": "2021-08-05T19:31:55.722184Z",
     "shell.execute_reply": "2021-08-05T19:31:55.721615Z",
     "shell.execute_reply.started": "2021-07-17T11:34:41.410827Z"
    },
    "papermill": {
     "duration": 0.107399,
     "end_time": "2021-08-05T19:31:55.722350",
     "exception": false,
     "start_time": "2021-08-05T19:31:55.614951",
     "status": "completed"
    },
    "tags": []
   },
   "outputs": [
    {
     "data": {
      "text/html": [
       "<div>\n",
       "<style scoped>\n",
       "    .dataframe tbody tr th:only-of-type {\n",
       "        vertical-align: middle;\n",
       "    }\n",
       "\n",
       "    .dataframe tbody tr th {\n",
       "        vertical-align: top;\n",
       "    }\n",
       "\n",
       "    .dataframe thead th {\n",
       "        text-align: right;\n",
       "    }\n",
       "</style>\n",
       "<table border=\"1\" class=\"dataframe\">\n",
       "  <thead>\n",
       "    <tr style=\"text-align: right;\">\n",
       "      <th></th>\n",
       "      <th>country</th>\n",
       "      <th>adults</th>\n",
       "      <th>children</th>\n",
       "      <th>babies</th>\n",
       "      <th>is_canceled</th>\n",
       "      <th>total_passengers</th>\n",
       "    </tr>\n",
       "  </thead>\n",
       "  <tbody>\n",
       "    <tr>\n",
       "      <th>0</th>\n",
       "      <td>PRT</td>\n",
       "      <td>86131</td>\n",
       "      <td>3468.0</td>\n",
       "      <td>437</td>\n",
       "      <td>27519</td>\n",
       "      <td>62512.0</td>\n",
       "    </tr>\n",
       "    <tr>\n",
       "      <th>1</th>\n",
       "      <td>GBR</td>\n",
       "      <td>23223</td>\n",
       "      <td>1253.0</td>\n",
       "      <td>92</td>\n",
       "      <td>2453</td>\n",
       "      <td>22115.0</td>\n",
       "    </tr>\n",
       "    <tr>\n",
       "      <th>2</th>\n",
       "      <td>FRA</td>\n",
       "      <td>20291</td>\n",
       "      <td>1211.0</td>\n",
       "      <td>77</td>\n",
       "      <td>1934</td>\n",
       "      <td>19645.0</td>\n",
       "    </tr>\n",
       "    <tr>\n",
       "      <th>3</th>\n",
       "      <td>ESP</td>\n",
       "      <td>16615</td>\n",
       "      <td>1412.0</td>\n",
       "      <td>126</td>\n",
       "      <td>2177</td>\n",
       "      <td>15976.0</td>\n",
       "    </tr>\n",
       "    <tr>\n",
       "      <th>4</th>\n",
       "      <td>DEU</td>\n",
       "      <td>13703</td>\n",
       "      <td>477.0</td>\n",
       "      <td>18</td>\n",
       "      <td>1218</td>\n",
       "      <td>12980.0</td>\n",
       "    </tr>\n",
       "  </tbody>\n",
       "</table>\n",
       "</div>"
      ],
      "text/plain": [
       "  country  adults  children  babies  is_canceled  total_passengers\n",
       "0     PRT   86131    3468.0     437        27519           62512.0\n",
       "1     GBR   23223    1253.0      92         2453           22115.0\n",
       "2     FRA   20291    1211.0      77         1934           19645.0\n",
       "3     ESP   16615    1412.0     126         2177           15976.0\n",
       "4     DEU   13703     477.0      18         1218           12980.0"
      ]
     },
     "execution_count": 7,
     "metadata": {},
     "output_type": "execute_result"
    }
   ],
   "source": [
    "df['total_passengers'] = df['adults'] + df['children'] + df['babies'] - df['is_canceled']\n",
    "df[['country','adults','children','babies','is_canceled','total_passengers']].groupby('country').sum().nlargest(5,'total_passengers').reset_index()\n"
   ]
  },
  {
   "cell_type": "markdown",
   "id": "47380ec8",
   "metadata": {
    "papermill": {
     "duration": 0.02617,
     "end_time": "2021-08-05T19:31:55.775826",
     "exception": false,
     "start_time": "2021-08-05T19:31:55.749656",
     "status": "completed"
    },
    "tags": []
   },
   "source": [
    "#### Find passenger who have the maximum ADR (Average Daily Rate)"
   ]
  },
  {
   "cell_type": "code",
   "execution_count": 8,
   "id": "05299a6a",
   "metadata": {
    "execution": {
     "iopub.execute_input": "2021-08-05T19:31:55.837280Z",
     "iopub.status.busy": "2021-08-05T19:31:55.836573Z",
     "iopub.status.idle": "2021-08-05T19:31:55.850368Z",
     "shell.execute_reply": "2021-08-05T19:31:55.849620Z",
     "shell.execute_reply.started": "2021-07-08T18:59:05.319696Z"
    },
    "papermill": {
     "duration": 0.048159,
     "end_time": "2021-08-05T19:31:55.850549",
     "exception": false,
     "start_time": "2021-08-05T19:31:55.802390",
     "status": "completed"
    },
    "tags": []
   },
   "outputs": [
    {
     "data": {
      "text/html": [
       "<div>\n",
       "<style scoped>\n",
       "    .dataframe tbody tr th:only-of-type {\n",
       "        vertical-align: middle;\n",
       "    }\n",
       "\n",
       "    .dataframe tbody tr th {\n",
       "        vertical-align: top;\n",
       "    }\n",
       "\n",
       "    .dataframe thead th {\n",
       "        text-align: right;\n",
       "    }\n",
       "</style>\n",
       "<table border=\"1\" class=\"dataframe\">\n",
       "  <thead>\n",
       "    <tr style=\"text-align: right;\">\n",
       "      <th></th>\n",
       "      <th>passenger_name</th>\n",
       "      <th>price</th>\n",
       "    </tr>\n",
       "  </thead>\n",
       "  <tbody>\n",
       "    <tr>\n",
       "      <th>max(ADR)</th>\n",
       "      <td>Daniel Walter</td>\n",
       "      <td>5400.0</td>\n",
       "    </tr>\n",
       "  </tbody>\n",
       "</table>\n",
       "</div>"
      ],
      "text/plain": [
       "         passenger_name   price\n",
       "max(ADR)  Daniel Walter  5400.0"
      ]
     },
     "execution_count": 8,
     "metadata": {},
     "output_type": "execute_result"
    }
   ],
   "source": [
    "pd.DataFrame([(df.name[df['adr'].idxmax()],df['adr'].max())],columns=['passenger_name','price'] ,index=['max(ADR)'])"
   ]
  },
  {
   "cell_type": "markdown",
   "id": "813354a6",
   "metadata": {
    "papermill": {
     "duration": 0.028165,
     "end_time": "2021-08-05T19:31:55.906560",
     "exception": false,
     "start_time": "2021-08-05T19:31:55.878395",
     "status": "completed"
    },
    "tags": []
   },
   "source": [
    "####  Average of total ADRs"
   ]
  },
  {
   "cell_type": "code",
   "execution_count": 9,
   "id": "6587875d",
   "metadata": {
    "execution": {
     "iopub.execute_input": "2021-08-05T19:31:55.975381Z",
     "iopub.status.busy": "2021-08-05T19:31:55.968874Z",
     "iopub.status.idle": "2021-08-05T19:31:55.981177Z",
     "shell.execute_reply": "2021-08-05T19:31:55.980481Z",
     "shell.execute_reply.started": "2021-07-08T18:59:05.33477Z"
    },
    "papermill": {
     "duration": 0.047147,
     "end_time": "2021-08-05T19:31:55.981342",
     "exception": false,
     "start_time": "2021-08-05T19:31:55.934195",
     "status": "completed"
    },
    "tags": []
   },
   "outputs": [
    {
     "data": {
      "text/html": [
       "<div>\n",
       "<style scoped>\n",
       "    .dataframe tbody tr th:only-of-type {\n",
       "        vertical-align: middle;\n",
       "    }\n",
       "\n",
       "    .dataframe tbody tr th {\n",
       "        vertical-align: top;\n",
       "    }\n",
       "\n",
       "    .dataframe thead th {\n",
       "        text-align: right;\n",
       "    }\n",
       "</style>\n",
       "<table border=\"1\" class=\"dataframe\">\n",
       "  <thead>\n",
       "    <tr style=\"text-align: right;\">\n",
       "      <th></th>\n",
       "      <th>average_of_total_adrs</th>\n",
       "    </tr>\n",
       "  </thead>\n",
       "  <tbody>\n",
       "    <tr>\n",
       "      <th>mean (ADR)</th>\n",
       "      <td>101.83</td>\n",
       "    </tr>\n",
       "  </tbody>\n",
       "</table>\n",
       "</div>"
      ],
      "text/plain": [
       "            average_of_total_adrs\n",
       "mean (ADR)                 101.83"
      ]
     },
     "execution_count": 9,
     "metadata": {},
     "output_type": "execute_result"
    }
   ],
   "source": [
    "pd.DataFrame([(round(df['adr'].mean(),2))],columns=['average_of_total_adrs',] ,index=['mean (ADR)'])"
   ]
  },
  {
   "cell_type": "markdown",
   "id": "d2f12192",
   "metadata": {
    "papermill": {
     "duration": 0.028619,
     "end_time": "2021-08-05T19:31:56.039060",
     "exception": false,
     "start_time": "2021-08-05T19:31:56.010441",
     "status": "completed"
    },
    "tags": []
   },
   "source": [
    "#### Define the average of number of nights stayed."
   ]
  },
  {
   "cell_type": "code",
   "execution_count": 10,
   "id": "a30e92b6",
   "metadata": {
    "execution": {
     "iopub.execute_input": "2021-08-05T19:31:56.103206Z",
     "iopub.status.busy": "2021-08-05T19:31:56.101787Z",
     "iopub.status.idle": "2021-08-05T19:31:56.106171Z",
     "shell.execute_reply": "2021-08-05T19:31:56.105562Z",
     "shell.execute_reply.started": "2021-07-17T11:31:46.672197Z"
    },
    "papermill": {
     "duration": 0.038513,
     "end_time": "2021-08-05T19:31:56.106359",
     "exception": false,
     "start_time": "2021-08-05T19:31:56.067846",
     "status": "completed"
    },
    "tags": []
   },
   "outputs": [],
   "source": [
    "df['total_stays_in_nights'] = df['stays_in_week_nights'] + df['stays_in_weekend_nights']"
   ]
  },
  {
   "cell_type": "code",
   "execution_count": 11,
   "id": "e4adce9f",
   "metadata": {
    "execution": {
     "iopub.execute_input": "2021-08-05T19:31:56.170871Z",
     "iopub.status.busy": "2021-08-05T19:31:56.170168Z",
     "iopub.status.idle": "2021-08-05T19:31:56.173201Z",
     "shell.execute_reply": "2021-08-05T19:31:56.173797Z",
     "shell.execute_reply.started": "2021-07-17T11:32:39.822745Z"
    },
    "papermill": {
     "duration": 0.038489,
     "end_time": "2021-08-05T19:31:56.173985",
     "exception": false,
     "start_time": "2021-08-05T19:31:56.135496",
     "status": "completed"
    },
    "tags": []
   },
   "outputs": [
    {
     "data": {
      "text/plain": [
       "3.43"
      ]
     },
     "execution_count": 11,
     "metadata": {},
     "output_type": "execute_result"
    }
   ],
   "source": [
    "df['total_stays_in_nights'].mean().round(2)"
   ]
  },
  {
   "cell_type": "markdown",
   "id": "8a21e3b2",
   "metadata": {
    "papermill": {
     "duration": 0.028253,
     "end_time": "2021-08-05T19:31:56.230894",
     "exception": false,
     "start_time": "2021-08-05T19:31:56.202641",
     "status": "completed"
    },
    "tags": []
   },
   "source": [
    "#### Define the name and email of people who had 5 special requests"
   ]
  },
  {
   "cell_type": "code",
   "execution_count": 12,
   "id": "27c1cc2d",
   "metadata": {
    "execution": {
     "iopub.execute_input": "2021-08-05T19:31:56.289993Z",
     "iopub.status.busy": "2021-08-05T19:31:56.289293Z",
     "iopub.status.idle": "2021-08-05T19:31:56.321643Z",
     "shell.execute_reply": "2021-08-05T19:31:56.322270Z",
     "shell.execute_reply.started": "2021-07-08T18:59:05.379922Z"
    },
    "papermill": {
     "duration": 0.063645,
     "end_time": "2021-08-05T19:31:56.322443",
     "exception": false,
     "start_time": "2021-08-05T19:31:56.258798",
     "status": "completed"
    },
    "tags": []
   },
   "outputs": [
    {
     "data": {
      "text/html": [
       "<div>\n",
       "<style scoped>\n",
       "    .dataframe tbody tr th:only-of-type {\n",
       "        vertical-align: middle;\n",
       "    }\n",
       "\n",
       "    .dataframe tbody tr th {\n",
       "        vertical-align: top;\n",
       "    }\n",
       "\n",
       "    .dataframe thead th {\n",
       "        text-align: right;\n",
       "    }\n",
       "</style>\n",
       "<table border=\"1\" class=\"dataframe\">\n",
       "  <thead>\n",
       "    <tr style=\"text-align: right;\">\n",
       "      <th></th>\n",
       "      <th>index</th>\n",
       "      <th>name</th>\n",
       "      <th>email</th>\n",
       "    </tr>\n",
       "  </thead>\n",
       "  <tbody>\n",
       "    <tr>\n",
       "      <th>0</th>\n",
       "      <td>7860</td>\n",
       "      <td>Amanda Harper</td>\n",
       "      <td>Amanda.H66@yahoo.com</td>\n",
       "    </tr>\n",
       "    <tr>\n",
       "      <th>1</th>\n",
       "      <td>11125</td>\n",
       "      <td>Laura Sanders</td>\n",
       "      <td>Sanders_Laura@hotmail.com</td>\n",
       "    </tr>\n",
       "    <tr>\n",
       "      <th>2</th>\n",
       "      <td>14596</td>\n",
       "      <td>Tommy Ortiz</td>\n",
       "      <td>Tommy_O@hotmail.com</td>\n",
       "    </tr>\n",
       "    <tr>\n",
       "      <th>3</th>\n",
       "      <td>14921</td>\n",
       "      <td>Gilbert Miller</td>\n",
       "      <td>Miller.Gilbert@aol.com</td>\n",
       "    </tr>\n",
       "    <tr>\n",
       "      <th>4</th>\n",
       "      <td>14922</td>\n",
       "      <td>Timothy Torres</td>\n",
       "      <td>TTorres@protonmail.com</td>\n",
       "    </tr>\n",
       "    <tr>\n",
       "      <th>5</th>\n",
       "      <td>24630</td>\n",
       "      <td>Jennifer Weaver</td>\n",
       "      <td>Jennifer_W@aol.com</td>\n",
       "    </tr>\n",
       "    <tr>\n",
       "      <th>6</th>\n",
       "      <td>27288</td>\n",
       "      <td>Crystal Horton</td>\n",
       "      <td>Crystal.H@mail.com</td>\n",
       "    </tr>\n",
       "    <tr>\n",
       "      <th>7</th>\n",
       "      <td>27477</td>\n",
       "      <td>Brittney Burke</td>\n",
       "      <td>Burke_Brittney16@att.com</td>\n",
       "    </tr>\n",
       "    <tr>\n",
       "      <th>8</th>\n",
       "      <td>29906</td>\n",
       "      <td>Cynthia Cabrera</td>\n",
       "      <td>Cabrera.Cynthia@xfinity.com</td>\n",
       "    </tr>\n",
       "    <tr>\n",
       "      <th>9</th>\n",
       "      <td>29949</td>\n",
       "      <td>Sarah Floyd</td>\n",
       "      <td>Sarah_F@gmail.com</td>\n",
       "    </tr>\n",
       "    <tr>\n",
       "      <th>10</th>\n",
       "      <td>32267</td>\n",
       "      <td>Michelle Villa</td>\n",
       "      <td>Michelle.Villa@aol.com</td>\n",
       "    </tr>\n",
       "    <tr>\n",
       "      <th>11</th>\n",
       "      <td>39027</td>\n",
       "      <td>Nichole Hebert</td>\n",
       "      <td>Hebert.Nichole@gmail.com</td>\n",
       "    </tr>\n",
       "    <tr>\n",
       "      <th>12</th>\n",
       "      <td>39129</td>\n",
       "      <td>Lindsey Mckenzie</td>\n",
       "      <td>Lindsey.Mckenzie@att.com</td>\n",
       "    </tr>\n",
       "    <tr>\n",
       "      <th>13</th>\n",
       "      <td>39525</td>\n",
       "      <td>Ashley Edwards</td>\n",
       "      <td>Edwards.Ashley@yahoo.com</td>\n",
       "    </tr>\n",
       "    <tr>\n",
       "      <th>14</th>\n",
       "      <td>70114</td>\n",
       "      <td>Christopher Torres</td>\n",
       "      <td>Torres.Christopher@gmail.com</td>\n",
       "    </tr>\n",
       "    <tr>\n",
       "      <th>15</th>\n",
       "      <td>78819</td>\n",
       "      <td>Mrs. Tara Sullivan DVM</td>\n",
       "      <td>Mrs..DVM@xfinity.com</td>\n",
       "    </tr>\n",
       "    <tr>\n",
       "      <th>16</th>\n",
       "      <td>78820</td>\n",
       "      <td>Michaela Brown</td>\n",
       "      <td>MichaelaBrown@att.com</td>\n",
       "    </tr>\n",
       "    <tr>\n",
       "      <th>17</th>\n",
       "      <td>78822</td>\n",
       "      <td>Kurt Maldonado MD</td>\n",
       "      <td>KMD15@xfinity.com</td>\n",
       "    </tr>\n",
       "    <tr>\n",
       "      <th>18</th>\n",
       "      <td>97072</td>\n",
       "      <td>Jason Richardson</td>\n",
       "      <td>Jason.R@zoho.com</td>\n",
       "    </tr>\n",
       "    <tr>\n",
       "      <th>19</th>\n",
       "      <td>97099</td>\n",
       "      <td>Terri Hurley</td>\n",
       "      <td>THurley@xfinity.com</td>\n",
       "    </tr>\n",
       "    <tr>\n",
       "      <th>20</th>\n",
       "      <td>97261</td>\n",
       "      <td>Mrs. Caitlin Webb</td>\n",
       "      <td>Mrs._W@comcast.net</td>\n",
       "    </tr>\n",
       "    <tr>\n",
       "      <th>21</th>\n",
       "      <td>98410</td>\n",
       "      <td>Holly Arroyo</td>\n",
       "      <td>Arroyo_Holly@mail.com</td>\n",
       "    </tr>\n",
       "    <tr>\n",
       "      <th>22</th>\n",
       "      <td>98674</td>\n",
       "      <td>Denise Campbell</td>\n",
       "      <td>Denise_C@gmail.com</td>\n",
       "    </tr>\n",
       "    <tr>\n",
       "      <th>23</th>\n",
       "      <td>99887</td>\n",
       "      <td>Michael Smith</td>\n",
       "      <td>Michael.S42@aol.com</td>\n",
       "    </tr>\n",
       "    <tr>\n",
       "      <th>24</th>\n",
       "      <td>99888</td>\n",
       "      <td>Dr. Trevor Sellers</td>\n",
       "      <td>Dr._S@aol.com</td>\n",
       "    </tr>\n",
       "    <tr>\n",
       "      <th>25</th>\n",
       "      <td>101569</td>\n",
       "      <td>Kayla Murphy</td>\n",
       "      <td>Kayla.Murphy@yahoo.com</td>\n",
       "    </tr>\n",
       "    <tr>\n",
       "      <th>26</th>\n",
       "      <td>102061</td>\n",
       "      <td>Taylor Martinez</td>\n",
       "      <td>Taylor.Martinez@hotmail.com</td>\n",
       "    </tr>\n",
       "    <tr>\n",
       "      <th>27</th>\n",
       "      <td>109511</td>\n",
       "      <td>Charles Wilson</td>\n",
       "      <td>Charles_Wilson@yahoo.com</td>\n",
       "    </tr>\n",
       "    <tr>\n",
       "      <th>28</th>\n",
       "      <td>109590</td>\n",
       "      <td>Tyler Allison</td>\n",
       "      <td>Tyler.A@protonmail.com</td>\n",
       "    </tr>\n",
       "    <tr>\n",
       "      <th>29</th>\n",
       "      <td>110082</td>\n",
       "      <td>Matthew Bailey</td>\n",
       "      <td>Matthew_Bailey@aol.com</td>\n",
       "    </tr>\n",
       "    <tr>\n",
       "      <th>30</th>\n",
       "      <td>110083</td>\n",
       "      <td>Charlotte Acevedo</td>\n",
       "      <td>Charlotte_A@verizon.com</td>\n",
       "    </tr>\n",
       "    <tr>\n",
       "      <th>31</th>\n",
       "      <td>111909</td>\n",
       "      <td>Darrell Brennan</td>\n",
       "      <td>Brennan_Darrell51@hotmail.com</td>\n",
       "    </tr>\n",
       "    <tr>\n",
       "      <th>32</th>\n",
       "      <td>111911</td>\n",
       "      <td>Melinda Jensen</td>\n",
       "      <td>MelindaJensen@zoho.com</td>\n",
       "    </tr>\n",
       "    <tr>\n",
       "      <th>33</th>\n",
       "      <td>113915</td>\n",
       "      <td>Terry Arnold</td>\n",
       "      <td>Arnold.Terry@zoho.com</td>\n",
       "    </tr>\n",
       "    <tr>\n",
       "      <th>34</th>\n",
       "      <td>114770</td>\n",
       "      <td>Mary Nguyen</td>\n",
       "      <td>Nguyen.Mary@protonmail.com</td>\n",
       "    </tr>\n",
       "    <tr>\n",
       "      <th>35</th>\n",
       "      <td>114909</td>\n",
       "      <td>Lindsay Cuevas</td>\n",
       "      <td>Lindsay.Cuevas40@mail.com</td>\n",
       "    </tr>\n",
       "    <tr>\n",
       "      <th>36</th>\n",
       "      <td>116455</td>\n",
       "      <td>Cynthia Hernandez</td>\n",
       "      <td>CynthiaHernandez@xfinity.com</td>\n",
       "    </tr>\n",
       "    <tr>\n",
       "      <th>37</th>\n",
       "      <td>116457</td>\n",
       "      <td>Angela Hawkins</td>\n",
       "      <td>Angela_H@gmail.com</td>\n",
       "    </tr>\n",
       "    <tr>\n",
       "      <th>38</th>\n",
       "      <td>118817</td>\n",
       "      <td>Sue Lawson</td>\n",
       "      <td>Sue.L52@comcast.net</td>\n",
       "    </tr>\n",
       "    <tr>\n",
       "      <th>39</th>\n",
       "      <td>119161</td>\n",
       "      <td>Alyssa Richards</td>\n",
       "      <td>Alyssa_Richards@aol.com</td>\n",
       "    </tr>\n",
       "  </tbody>\n",
       "</table>\n",
       "</div>"
      ],
      "text/plain": [
       "     index                    name                          email\n",
       "0     7860           Amanda Harper           Amanda.H66@yahoo.com\n",
       "1    11125           Laura Sanders      Sanders_Laura@hotmail.com\n",
       "2    14596             Tommy Ortiz            Tommy_O@hotmail.com\n",
       "3    14921          Gilbert Miller         Miller.Gilbert@aol.com\n",
       "4    14922          Timothy Torres         TTorres@protonmail.com\n",
       "5    24630         Jennifer Weaver             Jennifer_W@aol.com\n",
       "6    27288          Crystal Horton             Crystal.H@mail.com\n",
       "7    27477          Brittney Burke       Burke_Brittney16@att.com\n",
       "8    29906         Cynthia Cabrera    Cabrera.Cynthia@xfinity.com\n",
       "9    29949             Sarah Floyd              Sarah_F@gmail.com\n",
       "10   32267          Michelle Villa         Michelle.Villa@aol.com\n",
       "11   39027          Nichole Hebert       Hebert.Nichole@gmail.com\n",
       "12   39129        Lindsey Mckenzie       Lindsey.Mckenzie@att.com\n",
       "13   39525          Ashley Edwards       Edwards.Ashley@yahoo.com\n",
       "14   70114      Christopher Torres   Torres.Christopher@gmail.com\n",
       "15   78819  Mrs. Tara Sullivan DVM           Mrs..DVM@xfinity.com\n",
       "16   78820          Michaela Brown          MichaelaBrown@att.com\n",
       "17   78822       Kurt Maldonado MD              KMD15@xfinity.com\n",
       "18   97072        Jason Richardson               Jason.R@zoho.com\n",
       "19   97099            Terri Hurley            THurley@xfinity.com\n",
       "20   97261       Mrs. Caitlin Webb             Mrs._W@comcast.net\n",
       "21   98410            Holly Arroyo          Arroyo_Holly@mail.com\n",
       "22   98674         Denise Campbell             Denise_C@gmail.com\n",
       "23   99887           Michael Smith            Michael.S42@aol.com\n",
       "24   99888      Dr. Trevor Sellers                  Dr._S@aol.com\n",
       "25  101569            Kayla Murphy         Kayla.Murphy@yahoo.com\n",
       "26  102061         Taylor Martinez    Taylor.Martinez@hotmail.com\n",
       "27  109511          Charles Wilson       Charles_Wilson@yahoo.com\n",
       "28  109590           Tyler Allison         Tyler.A@protonmail.com\n",
       "29  110082          Matthew Bailey         Matthew_Bailey@aol.com\n",
       "30  110083       Charlotte Acevedo        Charlotte_A@verizon.com\n",
       "31  111909         Darrell Brennan  Brennan_Darrell51@hotmail.com\n",
       "32  111911          Melinda Jensen         MelindaJensen@zoho.com\n",
       "33  113915            Terry Arnold          Arnold.Terry@zoho.com\n",
       "34  114770             Mary Nguyen     Nguyen.Mary@protonmail.com\n",
       "35  114909          Lindsay Cuevas      Lindsay.Cuevas40@mail.com\n",
       "36  116455       Cynthia Hernandez   CynthiaHernandez@xfinity.com\n",
       "37  116457          Angela Hawkins             Angela_H@gmail.com\n",
       "38  118817              Sue Lawson            Sue.L52@comcast.net\n",
       "39  119161         Alyssa Richards        Alyssa_Richards@aol.com"
      ]
     },
     "execution_count": 12,
     "metadata": {},
     "output_type": "execute_result"
    }
   ],
   "source": [
    "df[df['total_of_special_requests'] == 5][['name','email']].reset_index()"
   ]
  },
  {
   "cell_type": "markdown",
   "id": "e9dfa72f",
   "metadata": {
    "papermill": {
     "duration": 0.028264,
     "end_time": "2021-08-05T19:31:56.379236",
     "exception": false,
     "start_time": "2021-08-05T19:31:56.350972",
     "status": "completed"
    },
    "tags": []
   },
   "source": [
    "#### Which first names have the most frequency of last name?\n"
   ]
  },
  {
   "cell_type": "code",
   "execution_count": 13,
   "id": "23d90dc8",
   "metadata": {
    "execution": {
     "iopub.execute_input": "2021-08-05T19:31:56.440310Z",
     "iopub.status.busy": "2021-08-05T19:31:56.439651Z",
     "iopub.status.idle": "2021-08-05T19:31:56.553224Z",
     "shell.execute_reply": "2021-08-05T19:31:56.553778Z",
     "shell.execute_reply.started": "2021-07-08T18:59:05.410705Z"
    },
    "papermill": {
     "duration": 0.146026,
     "end_time": "2021-08-05T19:31:56.553955",
     "exception": false,
     "start_time": "2021-08-05T19:31:56.407929",
     "status": "completed"
    },
    "tags": []
   },
   "outputs": [
    {
     "data": {
      "text/html": [
       "<div>\n",
       "<style scoped>\n",
       "    .dataframe tbody tr th:only-of-type {\n",
       "        vertical-align: middle;\n",
       "    }\n",
       "\n",
       "    .dataframe tbody tr th {\n",
       "        vertical-align: top;\n",
       "    }\n",
       "\n",
       "    .dataframe thead th {\n",
       "        text-align: right;\n",
       "    }\n",
       "</style>\n",
       "<table border=\"1\" class=\"dataframe\">\n",
       "  <thead>\n",
       "    <tr style=\"text-align: right;\">\n",
       "      <th></th>\n",
       "      <th>last_name</th>\n",
       "      <th>value_counts</th>\n",
       "    </tr>\n",
       "  </thead>\n",
       "  <tbody>\n",
       "    <tr>\n",
       "      <th>0</th>\n",
       "      <td>Smith</td>\n",
       "      <td>2510</td>\n",
       "    </tr>\n",
       "    <tr>\n",
       "      <th>1</th>\n",
       "      <td>Johnson</td>\n",
       "      <td>1998</td>\n",
       "    </tr>\n",
       "    <tr>\n",
       "      <th>2</th>\n",
       "      <td>Williams</td>\n",
       "      <td>1628</td>\n",
       "    </tr>\n",
       "    <tr>\n",
       "      <th>3</th>\n",
       "      <td>Jones</td>\n",
       "      <td>1441</td>\n",
       "    </tr>\n",
       "    <tr>\n",
       "      <th>4</th>\n",
       "      <td>Brown</td>\n",
       "      <td>1433</td>\n",
       "    </tr>\n",
       "  </tbody>\n",
       "</table>\n",
       "</div>"
      ],
      "text/plain": [
       "  last_name  value_counts\n",
       "0     Smith          2510\n",
       "1   Johnson          1998\n",
       "2  Williams          1628\n",
       "3     Jones          1441\n",
       "4     Brown          1433"
      ]
     },
     "execution_count": 13,
     "metadata": {},
     "output_type": "execute_result"
    }
   ],
   "source": [
    "df['name'].apply(lambda last_name:last_name.split()[1]).value_counts().head().to_frame('value_counts').reset_index().rename(columns={'index':'last_name'})\n"
   ]
  },
  {
   "cell_type": "markdown",
   "id": "449f34da",
   "metadata": {
    "papermill": {
     "duration": 0.028688,
     "end_time": "2021-08-05T19:31:56.611698",
     "exception": false,
     "start_time": "2021-08-05T19:31:56.583010",
     "status": "completed"
    },
    "tags": []
   },
   "source": [
    "#### Define the people whom reserved a hotel with most number of babies and children"
   ]
  },
  {
   "cell_type": "code",
   "execution_count": 14,
   "id": "6a012bbb",
   "metadata": {
    "execution": {
     "iopub.execute_input": "2021-08-05T19:31:56.674091Z",
     "iopub.status.busy": "2021-08-05T19:31:56.673376Z",
     "iopub.status.idle": "2021-08-05T19:31:56.736272Z",
     "shell.execute_reply": "2021-08-05T19:31:56.736801Z",
     "shell.execute_reply.started": "2021-07-08T18:59:05.52851Z"
    },
    "papermill": {
     "duration": 0.096171,
     "end_time": "2021-08-05T19:31:56.736982",
     "exception": false,
     "start_time": "2021-08-05T19:31:56.640811",
     "status": "completed"
    },
    "tags": []
   },
   "outputs": [
    {
     "data": {
      "text/html": [
       "<div>\n",
       "<style scoped>\n",
       "    .dataframe tbody tr th:only-of-type {\n",
       "        vertical-align: middle;\n",
       "    }\n",
       "\n",
       "    .dataframe tbody tr th {\n",
       "        vertical-align: top;\n",
       "    }\n",
       "\n",
       "    .dataframe thead th {\n",
       "        text-align: right;\n",
       "    }\n",
       "</style>\n",
       "<table border=\"1\" class=\"dataframe\">\n",
       "  <thead>\n",
       "    <tr style=\"text-align: right;\">\n",
       "      <th></th>\n",
       "      <th>name</th>\n",
       "      <th>email</th>\n",
       "      <th>phone-number</th>\n",
       "      <th>credit_card</th>\n",
       "      <th>hotel</th>\n",
       "      <th>total_babies_and_children</th>\n",
       "    </tr>\n",
       "  </thead>\n",
       "  <tbody>\n",
       "    <tr>\n",
       "      <th>328</th>\n",
       "      <td>Jamie Ramirez</td>\n",
       "      <td>Ramirez_Jamie22@aol.com</td>\n",
       "      <td>268-823-5667</td>\n",
       "      <td>************7600</td>\n",
       "      <td>Resort Hotel</td>\n",
       "      <td>10.0</td>\n",
       "    </tr>\n",
       "    <tr>\n",
       "      <th>46619</th>\n",
       "      <td>Nicholas Parker</td>\n",
       "      <td>Parker.Nicholas57@hotmail.com</td>\n",
       "      <td>440-692-0519</td>\n",
       "      <td>************4291</td>\n",
       "      <td>City Hotel</td>\n",
       "      <td>10.0</td>\n",
       "    </tr>\n",
       "    <tr>\n",
       "      <th>78656</th>\n",
       "      <td>Marc Robinson</td>\n",
       "      <td>Robinson_Marc@protonmail.com</td>\n",
       "      <td>934-726-2629</td>\n",
       "      <td>************1933</td>\n",
       "      <td>City Hotel</td>\n",
       "      <td>9.0</td>\n",
       "    </tr>\n",
       "    <tr>\n",
       "      <th>19718</th>\n",
       "      <td>Mr. Jeffrey Cross</td>\n",
       "      <td>Mr..Cross@yandex.com</td>\n",
       "      <td>822-960-5931</td>\n",
       "      <td>************6777</td>\n",
       "      <td>Resort Hotel</td>\n",
       "      <td>3.0</td>\n",
       "    </tr>\n",
       "    <tr>\n",
       "      <th>107837</th>\n",
       "      <td>Albert French</td>\n",
       "      <td>French.Albert@mail.com</td>\n",
       "      <td>953-281-5231</td>\n",
       "      <td>************9947</td>\n",
       "      <td>City Hotel</td>\n",
       "      <td>3.0</td>\n",
       "    </tr>\n",
       "  </tbody>\n",
       "</table>\n",
       "</div>"
      ],
      "text/plain": [
       "                     name                          email  phone-number  \\\n",
       "328         Jamie Ramirez        Ramirez_Jamie22@aol.com  268-823-5667   \n",
       "46619     Nicholas Parker  Parker.Nicholas57@hotmail.com  440-692-0519   \n",
       "78656       Marc Robinson   Robinson_Marc@protonmail.com  934-726-2629   \n",
       "19718   Mr. Jeffrey Cross           Mr..Cross@yandex.com  822-960-5931   \n",
       "107837      Albert French         French.Albert@mail.com  953-281-5231   \n",
       "\n",
       "             credit_card         hotel  total_babies_and_children  \n",
       "328     ************7600  Resort Hotel                       10.0  \n",
       "46619   ************4291    City Hotel                       10.0  \n",
       "78656   ************1933    City Hotel                        9.0  \n",
       "19718   ************6777  Resort Hotel                        3.0  \n",
       "107837  ************9947    City Hotel                        3.0  "
      ]
     },
     "execution_count": 14,
     "metadata": {},
     "output_type": "execute_result"
    }
   ],
   "source": [
    "df['total_babies_and_children'] = df['babies'] + df['children']\n",
    "df[['name','email','phone-number','credit_card','hotel','total_babies_and_children']].sort_values('total_babies_and_children',ascending=False).head()"
   ]
  },
  {
   "cell_type": "markdown",
   "id": "a96b6b3a",
   "metadata": {
    "papermill": {
     "duration": 0.030464,
     "end_time": "2021-08-05T19:31:56.803924",
     "exception": false,
     "start_time": "2021-08-05T19:31:56.773460",
     "status": "completed"
    },
    "tags": []
   },
   "source": [
    "#### Define the phone number of regions which had the most reservations"
   ]
  },
  {
   "cell_type": "code",
   "execution_count": 15,
   "id": "b10d5456",
   "metadata": {
    "execution": {
     "iopub.execute_input": "2021-08-05T19:31:56.873820Z",
     "iopub.status.busy": "2021-08-05T19:31:56.872864Z",
     "iopub.status.idle": "2021-08-05T19:31:56.961302Z",
     "shell.execute_reply": "2021-08-05T19:31:56.961829Z",
     "shell.execute_reply.started": "2021-07-08T18:59:05.576731Z"
    },
    "papermill": {
     "duration": 0.12728,
     "end_time": "2021-08-05T19:31:56.962047",
     "exception": false,
     "start_time": "2021-08-05T19:31:56.834767",
     "status": "completed"
    },
    "tags": []
   },
   "outputs": [
    {
     "data": {
      "text/html": [
       "<div>\n",
       "<style scoped>\n",
       "    .dataframe tbody tr th:only-of-type {\n",
       "        vertical-align: middle;\n",
       "    }\n",
       "\n",
       "    .dataframe tbody tr th {\n",
       "        vertical-align: top;\n",
       "    }\n",
       "\n",
       "    .dataframe thead th {\n",
       "        text-align: right;\n",
       "    }\n",
       "</style>\n",
       "<table border=\"1\" class=\"dataframe\">\n",
       "  <thead>\n",
       "    <tr style=\"text-align: right;\">\n",
       "      <th></th>\n",
       "      <th>phone_code</th>\n",
       "      <th>value_counts</th>\n",
       "    </tr>\n",
       "  </thead>\n",
       "  <tbody>\n",
       "    <tr>\n",
       "      <th>0</th>\n",
       "      <td>799</td>\n",
       "      <td>168</td>\n",
       "    </tr>\n",
       "    <tr>\n",
       "      <th>1</th>\n",
       "      <td>185</td>\n",
       "      <td>167</td>\n",
       "    </tr>\n",
       "    <tr>\n",
       "      <th>2</th>\n",
       "      <td>541</td>\n",
       "      <td>166</td>\n",
       "    </tr>\n",
       "    <tr>\n",
       "      <th>3</th>\n",
       "      <td>137</td>\n",
       "      <td>163</td>\n",
       "    </tr>\n",
       "    <tr>\n",
       "      <th>4</th>\n",
       "      <td>739</td>\n",
       "      <td>163</td>\n",
       "    </tr>\n",
       "  </tbody>\n",
       "</table>\n",
       "</div>"
      ],
      "text/plain": [
       "  phone_code  value_counts\n",
       "0        799           168\n",
       "1        185           167\n",
       "2        541           166\n",
       "3        137           163\n",
       "4        739           163"
      ]
     },
     "execution_count": 15,
     "metadata": {},
     "output_type": "execute_result"
    }
   ],
   "source": [
    "df['phone-number'].apply(lambda phone_code:phone_code[:3]).value_counts().head().to_frame('value_counts').reset_index().rename(columns={'index':'phone_code'})"
   ]
  },
  {
   "cell_type": "markdown",
   "id": "6e1d60a0",
   "metadata": {
    "papermill": {
     "duration": 0.030169,
     "end_time": "2021-08-05T19:31:57.022585",
     "exception": false,
     "start_time": "2021-08-05T19:31:56.992416",
     "status": "completed"
    },
    "tags": []
   },
   "source": [
    "### Exploratory Data Analysis"
   ]
  },
  {
   "cell_type": "code",
   "execution_count": 16,
   "id": "daae7de1",
   "metadata": {
    "execution": {
     "iopub.execute_input": "2021-08-05T19:31:57.103346Z",
     "iopub.status.busy": "2021-08-05T19:31:57.102558Z",
     "iopub.status.idle": "2021-08-05T19:31:57.436207Z",
     "shell.execute_reply": "2021-08-05T19:31:57.436764Z",
     "shell.execute_reply.started": "2021-07-17T12:40:03.569906Z"
    },
    "papermill": {
     "duration": 0.383625,
     "end_time": "2021-08-05T19:31:57.436966",
     "exception": false,
     "start_time": "2021-08-05T19:31:57.053341",
     "status": "completed"
    },
    "tags": []
   },
   "outputs": [
    {
     "data": {
      "text/plain": [
       "<AxesSubplot:xlabel='hotel', ylabel='count'>"
      ]
     },
     "execution_count": 16,
     "metadata": {},
     "output_type": "execute_result"
    },
    {
     "data": {
      "image/png": "[encoded data removed]",
      "text/plain": [
       "<Figure size 900x600 with 1 Axes>"
      ]
     },
     "metadata": {
      "needs_background": "light"
     },
     "output_type": "display_data"
    }
   ],
   "source": [
    "plt.figure(figsize=(6,4), dpi=150)\n",
    "sns.countplot(x='hotel', data=df)"
   ]
  },
  {
   "cell_type": "markdown",
   "id": "2606f25d",
   "metadata": {
    "papermill": {
     "duration": 0.041798,
     "end_time": "2021-08-05T19:31:57.518888",
     "exception": false,
     "start_time": "2021-08-05T19:31:57.477090",
     "status": "completed"
    },
    "tags": []
   },
   "source": [
    "#### Chart analysis :\n",
    "##### City Hotel has the most visitors.\n"
   ]
  },
  {
   "cell_type": "code",
   "execution_count": 17,
   "id": "66347d22",
   "metadata": {
    "execution": {
     "iopub.execute_input": "2021-08-05T19:31:57.618908Z",
     "iopub.status.busy": "2021-08-05T19:31:57.610407Z",
     "iopub.status.idle": "2021-08-05T19:31:59.319081Z",
     "shell.execute_reply": "2021-08-05T19:31:59.318393Z",
     "shell.execute_reply.started": "2021-07-17T12:39:48.759545Z"
    },
    "papermill": {
     "duration": 1.761968,
     "end_time": "2021-08-05T19:31:59.319265",
     "exception": false,
     "start_time": "2021-08-05T19:31:57.557297",
     "status": "completed"
    },
    "tags": []
   },
   "outputs": [
    {
     "data": {
      "text/plain": [
       "<AxesSubplot:xlabel='customer_type', ylabel='total_stays_in_nights'>"
      ]
     },
     "execution_count": 17,
     "metadata": {},
     "output_type": "execute_result"
    },
    {
     "data": {
      "image/png": "[encoded data removed]",
      "text/plain": [
       "<Figure size 900x600 with 1 Axes>"
      ]
     },
     "metadata": {
      "needs_background": "light"
     },
     "output_type": "display_data"
    }
   ],
   "source": [
    "plt.figure(figsize=(6,4), dpi=150)\n",
    "sns.barplot(x='customer_type', y='total_stays_in_nights', data=df)"
   ]
  },
  {
   "cell_type": "markdown",
   "id": "c4fea50d",
   "metadata": {
    "papermill": {
     "duration": 0.03251,
     "end_time": "2021-08-05T19:31:59.386478",
     "exception": false,
     "start_time": "2021-08-05T19:31:59.353968",
     "status": "completed"
    },
    "tags": []
   },
   "source": [
    "#### Chart analysis :\n",
    "##### ' Contract ' of Customer Types has the most stay duration.\n"
   ]
  },
  {
   "cell_type": "code",
   "execution_count": 18,
   "id": "f0144c8c",
   "metadata": {
    "execution": {
     "iopub.execute_input": "2021-08-05T19:31:59.472576Z",
     "iopub.status.busy": "2021-08-05T19:31:59.459059Z",
     "iopub.status.idle": "2021-08-05T19:32:01.967499Z",
     "shell.execute_reply": "2021-08-05T19:32:01.968041Z",
     "shell.execute_reply.started": "2021-07-17T12:13:51.00556Z"
    },
    "papermill": {
     "duration": 2.548563,
     "end_time": "2021-08-05T19:32:01.968227",
     "exception": false,
     "start_time": "2021-08-05T19:31:59.419664",
     "status": "completed"
    },
    "tags": []
   },
   "outputs": [
    {
     "data": {
      "text/plain": [
       "<matplotlib.legend.Legend at 0x7f3891b62a10>"
      ]
     },
     "execution_count": 18,
     "metadata": {},
     "output_type": "execute_result"
    },
    {
     "data": {
      "image/png": "[encoded data removed]",
      "text/plain": [
       "<Figure size 2400x800 with 1 Axes>"
      ]
     },
     "metadata": {
      "needs_background": "light"
     },
     "output_type": "display_data"
    }
   ],
   "source": [
    "plt.figure(figsize=(12,4), dpi=200)\n",
    "sns.barplot(x='arrival_date_month', y='total_passengers',hue='hotel' ,data=df)\n",
    "plt.legend(loc=(1.05, 1))"
   ]
  },
  {
   "cell_type": "markdown",
   "id": "73408d2f",
   "metadata": {
    "papermill": {
     "duration": 0.037419,
     "end_time": "2021-08-05T19:32:02.041807",
     "exception": false,
     "start_time": "2021-08-05T19:32:02.004388",
     "status": "completed"
    },
    "tags": []
   },
   "source": [
    "#### Chart analysis :\n",
    "#####  In both hotels most bookings were made from July to August . \n",
    "##### In all months, the most passengers are for Resort Hotel"
   ]
  }
 ],
 "metadata": {
  "kernelspec": {
   "display_name": "Python 3",
   "language": "python",
   "name": "python3"
  },
  "language_info": {
   "codemirror_mode": {
    "name": "ipython",
    "version": 3
   },
   "file_extension": ".py",
   "mimetype": "text/x-python",
   "name": "python",
   "nbconvert_exporter": "python",
   "pygments_lexer": "ipython3",
   "version": "3.7.10"
  },
  "papermill": {
   "default_parameters": {},
   "duration": 20.980222,
   "end_time": "2021-08-05T19:32:03.672978",
   "environment_variables": {},
   "exception": null,
   "input_path": "__notebook__.ipynb",
   "output_path": "__notebook__.ipynb",
   "parameters": {},
   "start_time": "2021-08-05T19:31:42.692756",
   "version": "2.3.3"
  }
 },
 "nbformat": 4,
 "nbformat_minor": 5
}
